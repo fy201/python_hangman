{
 "cells": [
  {
   "cell_type": "code",
   "execution_count": 5,
   "id": "eeb90ca3-d5c2-4810-92ba-35e85304beb7",
   "metadata": {},
   "outputs": [
    {
     "name": "stdout",
     "output_type": "stream",
     "text": [
      "Welcome to Hangman\n",
      "\n",
      "____\n"
     ]
    },
    {
     "name": "stdin",
     "output_type": "stream",
     "text": [
      "Guess a letter:  r\n"
     ]
    },
    {
     "name": "stdout",
     "output_type": "stream",
     "text": [
      "That letter does not appear in the word\n",
      "Attempts left: 7\n",
      "\n",
      "____\n"
     ]
    },
    {
     "name": "stdin",
     "output_type": "stream",
     "text": [
      "Guess a letter:  k\n"
     ]
    },
    {
     "name": "stdout",
     "output_type": "stream",
     "text": [
      "That letter does not appear in the word\n",
      "Attempts left: 6\n",
      "\n",
      "____\n"
     ]
    },
    {
     "name": "stdin",
     "output_type": "stream",
     "text": [
      "Guess a letter:  a\n"
     ]
    },
    {
     "name": "stdout",
     "output_type": "stream",
     "text": [
      "Attempts left: 6\n",
      "\n",
      "_a_a\n"
     ]
    },
    {
     "name": "stdin",
     "output_type": "stream",
     "text": [
      "Guess a letter:  n\n"
     ]
    },
    {
     "name": "stdout",
     "output_type": "stream",
     "text": [
      "That letter does not appear in the word\n",
      "Attempts left: 5\n",
      "\n",
      "_a_a\n"
     ]
    },
    {
     "name": "stdin",
     "output_type": "stream",
     "text": [
      "Guess a letter:  p\n"
     ]
    },
    {
     "name": "stdout",
     "output_type": "stream",
     "text": [
      "That letter does not appear in the word\n",
      "Attempts left: 4\n",
      "\n",
      "_a_a\n"
     ]
    },
    {
     "name": "stdin",
     "output_type": "stream",
     "text": [
      "Guess a letter:  j\n"
     ]
    },
    {
     "name": "stdout",
     "output_type": "stream",
     "text": [
      "Attempts left: 4\n",
      "\n",
      "ja_a\n"
     ]
    },
    {
     "name": "stdin",
     "output_type": "stream",
     "text": [
      "Guess a letter:  v\n"
     ]
    },
    {
     "name": "stdout",
     "output_type": "stream",
     "text": [
      "Attempts left: 4\n",
      "You guessed the word!\n",
      "java\n",
      "You survived!\n"
     ]
    }
   ],
   "source": [
    "import random\n",
    "\n",
    "word = [\"java\", \"python\", \"angular\", \"react\", \"swift\", \"Ruby\", \"kotlin\"]\n",
    "# randomly choose a word\n",
    "chosen_word = random.choice(word)\n",
    "word_display = ['_' for _ in chosen_word]  # create a list of underscores\n",
    "attempt = 8  # number of allowed attempts\n",
    "print(\"Welcome to Hangman\")\n",
    "\n",
    "while attempt > 0 and '_' in word_display:\n",
    "    print(\"\\n\" + ''.join(word_display))\n",
    "    guess = input(\"Guess a letter: \").lower()\n",
    "    if guess in chosen_word:\n",
    "        for index, letter in enumerate(chosen_word):\n",
    "            if letter == guess:\n",
    "                word_display[index] = guess  # reveal letter\n",
    "    else:\n",
    "        print(\"That letter does not appear in the word\")\n",
    "        attempt -= 1\n",
    "    print(f\"Attempts left: {attempt}\")\n",
    "\n",
    "# Game conclusion\n",
    "if '_' not in word_display:\n",
    "    print(\"You guessed the word!\")\n",
    "    print(\"\".join(word_display))\n",
    "    print(\"You survived!\")\n",
    "else:\n",
    "    print(\"You ran out of attempts. The word was: \" + chosen_word)\n",
    "    print(\"You lost!\")"
   ]
  }
 ],
 "metadata": {
  "kernelspec": {
   "display_name": "Python 3 (ipykernel)",
   "language": "python",
   "name": "python3"
  },
  "language_info": {
   "codemirror_mode": {
    "name": "ipython",
    "version": 3
   },
   "file_extension": ".py",
   "mimetype": "text/x-python",
   "name": "python",
   "nbconvert_exporter": "python",
   "pygments_lexer": "ipython3",
   "version": "3.12.4"
  }
 },
 "nbformat": 4,
 "nbformat_minor": 5
}
